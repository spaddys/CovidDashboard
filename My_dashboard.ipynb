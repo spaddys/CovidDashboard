{
 "cells": [
  {
   "cell_type": "markdown",
   "id": "a92a584d-a954-4c2f-a5b2-88be9b069e76",
   "metadata": {},
   "source": [
    "## Covid19 Dashboard"
   ]
  },
  {
   "cell_type": "code",
   "execution_count": 20,
   "id": "5dccab74-c735-4099-97c2-fbc9c05f0f6f",
   "metadata": {},
   "outputs": [],
   "source": [
    "from IPython.display import clear_output\n",
    "import ipywidgets as wdg\n",
    "import pandas as pd\n",
    "import numpy as np\n",
    "import matplotlib.pyplot as plt\n",
    "import json\n",
    "from uk_covid19 import Cov19API"
   ]
  },
  {
   "cell_type": "code",
   "execution_count": 21,
   "id": "eb52499e-69e8-4458-a5a0-5741f9ee0844",
   "metadata": {},
   "outputs": [],
   "source": [
    "%matplotlib inline\n",
    "# make figures larger\n",
    "plt.rcParams['figure.dpi'] = 100"
   ]
  },
  {
   "cell_type": "code",
   "execution_count": 29,
   "id": "2a8fcc91-38e8-4e40-b45e-4984f1272897",
   "metadata": {},
   "outputs": [],
   "source": [
    "with open(\"testingdata.json\", \"rt\") as INFILE:\n",
    "    data=json.load(INFILE)"
   ]
  },
  {
   "cell_type": "code",
   "execution_count": 30,
   "id": "818d9bd0-bf4e-4968-82a3-9b560ab7a619",
   "metadata": {},
   "outputs": [],
   "source": [
    "datalist=data[\"data\"]\n",
    "dates=[dictionary[\"date\"] for dictionary in datalist]\n",
    "dates.sort()"
   ]
  },
  {
   "cell_type": "code",
   "execution_count": 31,
   "id": "0018c226-b644-4807-a100-42b576ab2c75",
   "metadata": {},
   "outputs": [],
   "source": [
    "def parse_date(datestring):\n",
    "    \"\"\"Convert a date string into a pandas datetime object\"\"\"\n",
    "    return pd.to_datetime(datestring, format=\"%Y-%m-%d\")"
   ]
  },
  {
   "cell_type": "code",
   "execution_count": 32,
   "id": "adae3f3b-5c6e-4bf0-9366-605aa8ee5a38",
   "metadata": {},
   "outputs": [],
   "source": [
    "startdate=parse_date(dates[0])\n",
    "enddate=parse_date(dates[-1])\n",
    "index=pd.date_range(startdate, enddate, freq=\"D\")\n",
    "testdatadf=pd.DataFrame(index=index, columns=[\"newcases\", \"cumcases\", \"newpcr\", \"cumpcr\"])"
   ]
  },
  {
   "cell_type": "code",
   "execution_count": 33,
   "id": "c70680b3-1608-43c9-9b32-e38ec4ade4db",
   "metadata": {},
   "outputs": [],
   "source": [
    "for entry in datalist: #each entry is a dictionary with new and cum data for PCR and cases\n",
    "    date=parse_date(entry[\"date\"])\n",
    "    for column in [\"newcases\", \"cumcases\", \"newpcr\", \"cumpcr\"]:\n",
    "    #first check to make sure there is nothing in there in case data was duplicated\n",
    "        if pd.isna(testdatadf.loc[date,column]):\n",
    "            #replace all none with 0 in our data\n",
    "            value=float(entry[column]) if entry[column]!=None else 0.0\n",
    "            # .loc is how you access a specific location in the dataframe\n",
    "            #put index,column in a single set of []\n",
    "            testdatadf.loc[date, column]=value\n",
    "                    \n",
    "#fill in the holes with 0.0 to replace missing data\n",
    "testdatadf.fillna(0.0, inplace=True)\n",
    "print(testdatadf)"
   ]
  },
  {
   "cell_type": "markdown",
   "id": "f1b86ad2-5e51-4a6e-9c84-b794948b59df",
   "metadata": {},
   "source": [
    "To refresh the data from PHE press the button below."
   ]
  },
  {
   "cell_type": "code",
   "execution_count": 36,
   "id": "0cae2093-d778-4a3d-858c-d5883739b2b1",
   "metadata": {},
   "outputs": [
    {
     "data": {
      "application/vnd.jupyter.widget-view+json": {
       "model_id": "6f552438ab7c4b798d4e649d6d10f8f7",
       "version_major": 2,
       "version_minor": 0
      },
      "text/plain": [
       "Button(button_style='success', description='Refresh data', icon='download', style=ButtonStyle(), tooltip='Clic…"
      ]
     },
     "metadata": {},
     "output_type": "display_data"
    }
   ],
   "source": [
    "def access_api(button):\n",
    "    #this code polls the API\n",
    "    from uk_covid19 import Cov19API\n",
    "    filters = [\n",
    "    'areaType=nation',\n",
    "    'areaName=England'\n",
    "    ]\n",
    "\n",
    "\n",
    "    # values here are the names of the PHE metrics\n",
    "    structure = {\n",
    "        \"date\": \"date\",\n",
    "        \"newcases\": \"newCasesBySpecimenDate\", #new cases by Specimen date\n",
    "        \"cumcases\": \"cumCasesBySpecimenDate\", #cumulative cases by specimen date\n",
    "        \"newpcr\": \"newCasesPCROnlyBySpecimenDate\", #new cases by PCR by specimen date\n",
    "        \"cumpcr\": \"cumPCRTestsBySpecimenDate\" #cumulative cases by PCR by specimen date\n",
    "    }\n",
    "\n",
    "    api = Cov19API(filters=filters, structure=structure)\n",
    "\n",
    "    testingdata=api.get_json()\n",
    "    apibutton.icon=\"check\"\n",
    "    apibuttotn.disabled=True\n",
    "    \n",
    "apibutton=wdg.Button(\n",
    "    description=\"Refresh data\",\n",
    "    disabled=False,\n",
    "    button_style=\"success\",\n",
    "    tooltip=\"Click to download current Public Health England data.\",\n",
    "    icon=\"download\"\n",
    ")\n",
    "\n",
    "apibutton.on_click(access_api)\n",
    "\n",
    "# this is an iPython function that generalises print for Jupyter Notebooks; we use it to \n",
    "# display the widgets\n",
    "display(apibutton)"
   ]
  },
  {
   "cell_type": "markdown",
   "id": "2db007ec-50f6-4cf3-96bd-e5d190eb81be",
   "metadata": {},
   "source": [
    "## Graph comparing number of Covid cases compared to number of PCR tests\n",
    "\n",
    "This graph demonstrates the relationship between the number of new Covid 19 cases and the number of PCR tests. This graph also allows the user to compare the cumulative data versus the new data to compare trends in both."
   ]
  },
  {
   "cell_type": "code",
   "execution_count": 35,
   "id": "5fa21a5d-d2bf-47e6-b6de-163c34d91167",
   "metadata": {},
   "outputs": [
    {
     "data": {
      "application/vnd.jupyter.widget-view+json": {
       "model_id": "c0838d0dc7224cb688625785c0b09361",
       "version_major": 2,
       "version_minor": 0
      },
      "text/plain": [
       "HBox(children=(SelectMultiple(description='Stats:', index=(0, 1, 2, 3), options=('newcases', 'cumcases', 'newp…"
      ]
     },
     "metadata": {},
     "output_type": "display_data"
    },
    {
     "data": {
      "application/vnd.jupyter.widget-view+json": {
       "model_id": "487b6add7b224250a7f331b4dab33312",
       "version_major": 2,
       "version_minor": 0
      },
      "text/plain": [
       "Output()"
      ]
     },
     "metadata": {},
     "output_type": "display_data"
    }
   ],
   "source": [
    "series=wdg.SelectMultiple(\n",
    "    options=[\"newcases\", \"cumcases\", \"newpcr\", \"cumpcr\"],\n",
    "    value=[\"newcases\", \"cumcases\", \"newpcr\", \"cumpcr\"],\n",
    "    rows=4,\n",
    "    description=\"Stats:\",\n",
    "    disabled=False\n",
    ")\n",
    "\n",
    "scale=wdg.RadioButtons(\n",
    "    options=[\"linear\", \"log\"],\n",
    "    description=\"Scale:\",\n",
    "    disabled=False\n",
    ")\n",
    "\n",
    "controls=wdg.HBox([series, scale])\n",
    "\n",
    "def testdata_graph(gcols, gscale):\n",
    "    if gscale==\"linear\":\n",
    "        logscale=False\n",
    "    else:\n",
    "        logscale=True\n",
    "    ncols=len(gcols)\n",
    "    if ncols>0:\n",
    "        testdatadf[list(gcols)].plot(logy=logscale)\n",
    "        plt.show()\n",
    "    else:\n",
    "        print(\"Click to select data for graph\")\n",
    "        print(\"(CTRL-Click to select more than one category)\")\n",
    "\n",
    "graph=wdg.interactive_output(testdata_graph, {\"gcols\": series, \"gscale\": scale})\n",
    "\n",
    "display(controls, graph)"
   ]
  },
  {
   "cell_type": "code",
   "execution_count": null,
   "id": "a7920371-83ad-4b83-8b59-8ba0e9024f21",
   "metadata": {},
   "outputs": [],
   "source": []
  }
 ],
 "metadata": {
  "kernelspec": {
   "display_name": "Python 3 (ipykernel)",
   "language": "python",
   "name": "python3"
  },
  "language_info": {
   "codemirror_mode": {
    "name": "ipython",
    "version": 3
   },
   "file_extension": ".py",
   "mimetype": "text/x-python",
   "name": "python",
   "nbconvert_exporter": "python",
   "pygments_lexer": "ipython3",
   "version": "3.10.6"
  }
 },
 "nbformat": 4,
 "nbformat_minor": 5
}
